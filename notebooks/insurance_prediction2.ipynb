{
 "cells": [
  {
   "cell_type": "markdown",
   "metadata": {
    "id": "J-PoBUy5sTjA"
   },
   "source": [
    "# **Introduction**"
   ]
  },
  {
   "cell_type": "markdown",
   "metadata": {
    "id": "ME4c0Q8msXmj"
   },
   "source": [
    "The following notebook focuses on imbalanced binary classification problems. Some real world scenarios that utilise machine learning solutions where such problems can be encountered are that of loan approval systems, credit risk analysis, etc where one label class dominates the other with regards to the number of observations. If not not handled carefully, data models won't perform as per the expectations. The project discusses some of the common errors and  how to avoid them.\n",
    "\n",
    "Note: This notebook concentrates only on data modeling and does not contain any EDA."
   ]
  },
  {
   "cell_type": "markdown",
   "metadata": {
    "id": "tSx_XLg-vOF2"
   },
   "source": [
    "**The goal:** The problem that is going to be used to demonstrate the above concept is that of predicting customers of an Insurance company who have health insurances set up with that firm and would be interested in taking up automobile insurance as well. The company has recently expanded their services to include automobile insurance and would like to focus their resources and efforts on customers who are more likely to subscribe.\n",
    "\n",
    "**Dataset used:** The dataset that is is being used is from Kaggle. It can be found [here.](https://www.kaggle.com/datasets/arashnic/imbalanced-data-practice) Credits to the person who compiled the dataset.\n",
    "\n",
    "\n",
    "Let's get started!"
   ]
  },
  {
   "cell_type": "markdown",
   "metadata": {
    "id": "KGxkWjSkDLkb"
   },
   "source": [
    "."
   ]
  },
  {
   "cell_type": "code",
   "execution_count": 1,
   "metadata": {
    "id": "3yxkNzYMDLLd"
   },
   "outputs": [],
   "source": [
    "# import necessary libraries\n",
    "\n",
    "import pandas as pd\n",
    "import numpy as np\n",
    "import matplotlib.pyplot as plt\n",
    "import seaborn as sns\n",
    "from sklearn import metrics\n",
    "from sklearn.preprocessing import StandardScaler, LabelEncoder, OneHotEncoder, MinMaxScaler\n",
    "from sklearn.model_selection import train_test_split, GridSearchCV, StratifiedKFold\n",
    "from sklearn.ensemble import RandomForestClassifier\n",
    "from sklearn.metrics import confusion_matrix, classification_report\n",
    "from sklearn.metrics import precision_score, recall_score, f1_score, accuracy_score\n",
    "from imblearn.over_sampling import SMOTE\n",
    "from imblearn.under_sampling import RandomUnderSampler\n",
    "from collections import Counter\n",
    "import warnings\n",
    "warnings.filterwarnings('ignore')"
   ]
  },
  {
   "cell_type": "markdown",
   "metadata": {
    "id": "pUAh0dTqb4CK"
   },
   "source": [
    "# **Data preprocessing**"
   ]
  },
  {
   "cell_type": "markdown",
   "metadata": {
    "id": "wWjs5PzX0MOO"
   },
   "source": [
    "In this section, we are going to import the dataset and visualise it to understand the flavour of the data and the steps to process it for our final task, i.e. predicting if a customer will go for the automobile insurance or not. Most of the code in this section is self explanatory and easy to follow along."
   ]
  },
  {
   "cell_type": "markdown",
   "metadata": {
    "id": "SfKP1yfuDNr0"
   },
   "source": [
    "."
   ]
  },
  {
   "cell_type": "code",
   "execution_count": 14,
   "metadata": {
    "id": "3sGx4ZN4DpEn"
   },
   "outputs": [],
   "source": [
    "# read data files (Enter your own respective file locations)\n",
    "\n",
    "df1 = pd.read_csv('/content/drive/MyDrive/insurance_prediction/aug_train.csv')\n",
    "df2 = pd.read_csv('/content/drive/MyDrive/insurance_prediction/aug_test.csv')\n",
    "ans = np.load('/content/drive/MyDrive/insurance_prediction/answer.npy')"
   ]
  },
  {
   "cell_type": "code",
   "execution_count": 15,
   "metadata": {
    "id": "ho_P5tYvFJl4"
   },
   "outputs": [],
   "source": [
    "# I am going to combine both train and test sets with random shuffling to create a master dataset\n",
    "\n",
    "df2['Response'] = ans\n",
    "df = pd.concat([df1, df2]).sample(frac=1, random_state=0).reset_index(drop=True)"
   ]
  },
  {
   "cell_type": "code",
   "execution_count": 16,
   "metadata": {
    "colab": {
     "base_uri": "https://localhost:8080/",
     "height": 206
    },
    "id": "iXpfqYXwmkuy",
    "outputId": "4ada02a9-4019-4799-e7ad-4f5e0f9daab5"
   },
   "outputs": [
    {
     "data": {
      "text/html": [
       "\n",
       "  <div id=\"df-8df9e567-a24f-4da0-a79f-b87f6137984b\">\n",
       "    <div class=\"colab-df-container\">\n",
       "      <div>\n",
       "<style scoped>\n",
       "    .dataframe tbody tr th:only-of-type {\n",
       "        vertical-align: middle;\n",
       "    }\n",
       "\n",
       "    .dataframe tbody tr th {\n",
       "        vertical-align: top;\n",
       "    }\n",
       "\n",
       "    .dataframe thead th {\n",
       "        text-align: right;\n",
       "    }\n",
       "</style>\n",
       "<table border=\"1\" class=\"dataframe\">\n",
       "  <thead>\n",
       "    <tr style=\"text-align: right;\">\n",
       "      <th></th>\n",
       "      <th>id</th>\n",
       "      <th>Gender</th>\n",
       "      <th>Age</th>\n",
       "      <th>Driving_License</th>\n",
       "      <th>Region_Code</th>\n",
       "      <th>Previously_Insured</th>\n",
       "      <th>Vehicle_Age</th>\n",
       "      <th>Vehicle_Damage</th>\n",
       "      <th>Annual_Premium</th>\n",
       "      <th>Policy_Sales_Channel</th>\n",
       "      <th>Vintage</th>\n",
       "      <th>Response</th>\n",
       "    </tr>\n",
       "  </thead>\n",
       "  <tbody>\n",
       "    <tr>\n",
       "      <th>0</th>\n",
       "      <td>250452</td>\n",
       "      <td>Male</td>\n",
       "      <td>35</td>\n",
       "      <td>1</td>\n",
       "      <td>28.0</td>\n",
       "      <td>0</td>\n",
       "      <td>1-2 Year</td>\n",
       "      <td>Yes</td>\n",
       "      <td>39183.0</td>\n",
       "      <td>26.0</td>\n",
       "      <td>142</td>\n",
       "      <td>0</td>\n",
       "    </tr>\n",
       "    <tr>\n",
       "      <th>1</th>\n",
       "      <td>366939</td>\n",
       "      <td>Female</td>\n",
       "      <td>49</td>\n",
       "      <td>1</td>\n",
       "      <td>37.0</td>\n",
       "      <td>0</td>\n",
       "      <td>1-2 Year</td>\n",
       "      <td>Yes</td>\n",
       "      <td>35649.0</td>\n",
       "      <td>26.0</td>\n",
       "      <td>178</td>\n",
       "      <td>0</td>\n",
       "    </tr>\n",
       "    <tr>\n",
       "      <th>2</th>\n",
       "      <td>185895</td>\n",
       "      <td>Male</td>\n",
       "      <td>36</td>\n",
       "      <td>1</td>\n",
       "      <td>28.0</td>\n",
       "      <td>0</td>\n",
       "      <td>1-2 Year</td>\n",
       "      <td>Yes</td>\n",
       "      <td>22364.0</td>\n",
       "      <td>26.0</td>\n",
       "      <td>145</td>\n",
       "      <td>1</td>\n",
       "    </tr>\n",
       "    <tr>\n",
       "      <th>3</th>\n",
       "      <td>454455</td>\n",
       "      <td>Male</td>\n",
       "      <td>38</td>\n",
       "      <td>1</td>\n",
       "      <td>41.0</td>\n",
       "      <td>0</td>\n",
       "      <td>&lt; 1 Year</td>\n",
       "      <td>Yes</td>\n",
       "      <td>2630.0</td>\n",
       "      <td>157.0</td>\n",
       "      <td>145</td>\n",
       "      <td>1</td>\n",
       "    </tr>\n",
       "    <tr>\n",
       "      <th>4</th>\n",
       "      <td>387968</td>\n",
       "      <td>Female</td>\n",
       "      <td>66</td>\n",
       "      <td>1</td>\n",
       "      <td>3.0</td>\n",
       "      <td>1</td>\n",
       "      <td>1-2 Year</td>\n",
       "      <td>No</td>\n",
       "      <td>15088.0</td>\n",
       "      <td>26.0</td>\n",
       "      <td>232</td>\n",
       "      <td>0</td>\n",
       "    </tr>\n",
       "  </tbody>\n",
       "</table>\n",
       "</div>\n",
       "      <button class=\"colab-df-convert\" onclick=\"convertToInteractive('df-8df9e567-a24f-4da0-a79f-b87f6137984b')\"\n",
       "              title=\"Convert this dataframe to an interactive table.\"\n",
       "              style=\"display:none;\">\n",
       "        \n",
       "  <svg xmlns=\"http://www.w3.org/2000/svg\" height=\"24px\"viewBox=\"0 0 24 24\"\n",
       "       width=\"24px\">\n",
       "    <path d=\"M0 0h24v24H0V0z\" fill=\"none\"/>\n",
       "    <path d=\"M18.56 5.44l.94 2.06.94-2.06 2.06-.94-2.06-.94-.94-2.06-.94 2.06-2.06.94zm-11 1L8.5 8.5l.94-2.06 2.06-.94-2.06-.94L8.5 2.5l-.94 2.06-2.06.94zm10 10l.94 2.06.94-2.06 2.06-.94-2.06-.94-.94-2.06-.94 2.06-2.06.94z\"/><path d=\"M17.41 7.96l-1.37-1.37c-.4-.4-.92-.59-1.43-.59-.52 0-1.04.2-1.43.59L10.3 9.45l-7.72 7.72c-.78.78-.78 2.05 0 2.83L4 21.41c.39.39.9.59 1.41.59.51 0 1.02-.2 1.41-.59l7.78-7.78 2.81-2.81c.8-.78.8-2.07 0-2.86zM5.41 20L4 18.59l7.72-7.72 1.47 1.35L5.41 20z\"/>\n",
       "  </svg>\n",
       "      </button>\n",
       "      \n",
       "  <style>\n",
       "    .colab-df-container {\n",
       "      display:flex;\n",
       "      flex-wrap:wrap;\n",
       "      gap: 12px;\n",
       "    }\n",
       "\n",
       "    .colab-df-convert {\n",
       "      background-color: #E8F0FE;\n",
       "      border: none;\n",
       "      border-radius: 50%;\n",
       "      cursor: pointer;\n",
       "      display: none;\n",
       "      fill: #1967D2;\n",
       "      height: 32px;\n",
       "      padding: 0 0 0 0;\n",
       "      width: 32px;\n",
       "    }\n",
       "\n",
       "    .colab-df-convert:hover {\n",
       "      background-color: #E2EBFA;\n",
       "      box-shadow: 0px 1px 2px rgba(60, 64, 67, 0.3), 0px 1px 3px 1px rgba(60, 64, 67, 0.15);\n",
       "      fill: #174EA6;\n",
       "    }\n",
       "\n",
       "    [theme=dark] .colab-df-convert {\n",
       "      background-color: #3B4455;\n",
       "      fill: #D2E3FC;\n",
       "    }\n",
       "\n",
       "    [theme=dark] .colab-df-convert:hover {\n",
       "      background-color: #434B5C;\n",
       "      box-shadow: 0px 1px 3px 1px rgba(0, 0, 0, 0.15);\n",
       "      filter: drop-shadow(0px 1px 2px rgba(0, 0, 0, 0.3));\n",
       "      fill: #FFFFFF;\n",
       "    }\n",
       "  </style>\n",
       "\n",
       "      <script>\n",
       "        const buttonEl =\n",
       "          document.querySelector('#df-8df9e567-a24f-4da0-a79f-b87f6137984b button.colab-df-convert');\n",
       "        buttonEl.style.display =\n",
       "          google.colab.kernel.accessAllowed ? 'block' : 'none';\n",
       "\n",
       "        async function convertToInteractive(key) {\n",
       "          const element = document.querySelector('#df-8df9e567-a24f-4da0-a79f-b87f6137984b');\n",
       "          const dataTable =\n",
       "            await google.colab.kernel.invokeFunction('convertToInteractive',\n",
       "                                                     [key], {});\n",
       "          if (!dataTable) return;\n",
       "\n",
       "          const docLinkHtml = 'Like what you see? Visit the ' +\n",
       "            '<a target=\"_blank\" href=https://colab.research.google.com/notebooks/data_table.ipynb>data table notebook</a>'\n",
       "            + ' to learn more about interactive tables.';\n",
       "          element.innerHTML = '';\n",
       "          dataTable['output_type'] = 'display_data';\n",
       "          await google.colab.output.renderOutput(dataTable, element);\n",
       "          const docLink = document.createElement('div');\n",
       "          docLink.innerHTML = docLinkHtml;\n",
       "          element.appendChild(docLink);\n",
       "        }\n",
       "      </script>\n",
       "    </div>\n",
       "  </div>\n",
       "  "
      ],
      "text/plain": [
       "       id  Gender  Age  Driving_License  Region_Code  Previously_Insured  \\\n",
       "0  250452    Male   35                1         28.0                   0   \n",
       "1  366939  Female   49                1         37.0                   0   \n",
       "2  185895    Male   36                1         28.0                   0   \n",
       "3  454455    Male   38                1         41.0                   0   \n",
       "4  387968  Female   66                1          3.0                   1   \n",
       "\n",
       "  Vehicle_Age Vehicle_Damage  Annual_Premium  Policy_Sales_Channel  Vintage  \\\n",
       "0    1-2 Year            Yes         39183.0                  26.0      142   \n",
       "1    1-2 Year            Yes         35649.0                  26.0      178   \n",
       "2    1-2 Year            Yes         22364.0                  26.0      145   \n",
       "3    < 1 Year            Yes          2630.0                 157.0      145   \n",
       "4    1-2 Year             No         15088.0                  26.0      232   \n",
       "\n",
       "   Response  \n",
       "0         0  \n",
       "1         0  \n",
       "2         1  \n",
       "3         1  \n",
       "4         0  "
      ]
     },
     "execution_count": 16,
     "metadata": {},
     "output_type": "execute_result"
    }
   ],
   "source": [
    "df.head()"
   ]
  },
  {
   "cell_type": "code",
   "execution_count": null,
   "metadata": {
    "colab": {
     "base_uri": "https://localhost:8080/"
    },
    "id": "_GCDZDs4G6jq",
    "outputId": "cf962815-8c05-47e6-9808-6f03a294bf00"
   },
   "outputs": [
    {
     "data": {
      "text/plain": [
       "(460427, 12)"
      ]
     },
     "execution_count": 5,
     "metadata": {},
     "output_type": "execute_result"
    }
   ],
   "source": [
    "df.shape    # shape of the complete dataset"
   ]
  },
  {
   "cell_type": "code",
   "execution_count": null,
   "metadata": {
    "colab": {
     "base_uri": "https://localhost:8080/"
    },
    "id": "KLCYGcjtFbqH",
    "outputId": "d6792aa6-3107-4aa2-b672-3ddecf68927f"
   },
   "outputs": [
    {
     "data": {
      "text/plain": [
       "id                      0\n",
       "Gender                  0\n",
       "Age                     0\n",
       "Driving_License         0\n",
       "Region_Code             0\n",
       "Previously_Insured      0\n",
       "Vehicle_Age             0\n",
       "Vehicle_Damage          0\n",
       "Annual_Premium          0\n",
       "Policy_Sales_Channel    0\n",
       "Vintage                 0\n",
       "Response                0\n",
       "dtype: int64"
      ]
     },
     "execution_count": 6,
     "metadata": {},
     "output_type": "execute_result"
    }
   ],
   "source": [
    "df.isna().sum()     # checking for null values"
   ]
  },
  {
   "cell_type": "code",
   "execution_count": null,
   "metadata": {
    "colab": {
     "base_uri": "https://localhost:8080/"
    },
    "id": "PtAU76IcGsR0",
    "outputId": "086723a5-9778-45d9-c5c4-2e8f4b84fd12"
   },
   "outputs": [
    {
     "data": {
      "text/plain": [
       "id                      460427\n",
       "Gender                       2\n",
       "Age                         66\n",
       "Driving_License              2\n",
       "Region_Code                 53\n",
       "Previously_Insured           2\n",
       "Vehicle_Age                  3\n",
       "Vehicle_Damage               2\n",
       "Annual_Premium           51002\n",
       "Policy_Sales_Channel       156\n",
       "Vintage                    290\n",
       "Response                     2\n",
       "dtype: int64"
      ]
     },
     "execution_count": 7,
     "metadata": {},
     "output_type": "execute_result"
    }
   ],
   "source": [
    "df.nunique()      # checking number of unique values in each feature"
   ]
  },
  {
   "cell_type": "markdown",
   "metadata": {
    "id": "aWwF8XMHDQpG"
   },
   "source": [
    "."
   ]
  },
  {
   "cell_type": "markdown",
   "metadata": {
    "id": "5ZtFy6Ys4aK7"
   },
   "source": [
    "There are 460427 unique rows in the dataset. I have reduced the number of rows by random sampling to speed up the training process as this task is only for demonstration. But the proportion of the number of positive labels to number of negative labels from the original dataset has been maintained. There are more elegant ways to do this but I have used a pretty straightforward method."
   ]
  },
  {
   "cell_type": "markdown",
   "metadata": {
    "id": "l-mIE18DDRse"
   },
   "source": [
    "."
   ]
  },
  {
   "cell_type": "code",
   "execution_count": null,
   "metadata": {
    "colab": {
     "base_uri": "https://localhost:8080/"
    },
    "id": "y1CohfDPnDQV",
    "outputId": "9be9ee42-8420-494f-8d82-7c6a08d9ff86"
   },
   "outputs": [
    {
     "name": "stdout",
     "output_type": "stream",
     "text": [
      "Size of dataframe 460427\n",
      "Fraction not opting for vehicle insurance: 84 %\n",
      "Fraction opting for vehicle insurance: 16 %\n"
     ]
    }
   ],
   "source": [
    "print('Size of dataframe', len(df))\n",
    "print('Fraction not opting for vehicle insurance:', round((Counter(df['Response'])[0]/len(df))*100), '%')\n",
    "print('Fraction opting for vehicle insurance:', round((Counter(df['Response'])[1]/len(df))*100), '%')"
   ]
  },
  {
   "cell_type": "code",
   "execution_count": 17,
   "metadata": {
    "colab": {
     "base_uri": "https://localhost:8080/"
    },
    "id": "Gmr6rHT5nH1t",
    "outputId": "17c5f7e1-5bf8-4c7f-9e7a-a2cc0b73fb13"
   },
   "outputs": [
    {
     "name": "stdout",
     "output_type": "stream",
     "text": [
      "Size of reduced dataframe 10000\n",
      "Fraction not opting for vehicle insurance: 84 %\n",
      "Fraction opting for vehicle insurance: 16 %\n"
     ]
    }
   ],
   "source": [
    "mdf1 = df[df['Response']==0].sample(n=8400, random_state=9)\n",
    "mdf2 = df[df['Response']==1].sample(n=1600, random_state=9)\n",
    "mdf = pd.concat([mdf1, mdf2]).sample(frac=1, random_state=0).reset_index(drop=True)\n",
    "\n",
    "print('Size of reduced dataframe', len(mdf))\n",
    "print('Fraction not opting for vehicle insurance:', round((Counter(mdf['Response'])[0]/len(mdf))*100), '%')\n",
    "print('Fraction opting for vehicle insurance:', round((Counter(mdf['Response'])[1]/len(mdf))*100), '%')"
   ]
  },
  {
   "cell_type": "code",
   "execution_count": 6,
   "metadata": {
    "colab": {
     "base_uri": "https://localhost:8080/",
     "height": 452
    },
    "id": "4MjPji1tVdf_",
    "outputId": "945d08c0-cc09-43d7-9b9c-f67ea20527f9"
   },
   "outputs": [
    {
     "data": {
      "image/png": "[encoded data removed]",
      "text/plain": [
       "<Figure size 640x480 with 2 Axes>"
      ]
     },
     "metadata": {},
     "output_type": "display_data"
    }
   ],
   "source": [
    "plt.subplot(1,2,1)\n",
    "plt.bar(Counter(df['Response']).keys(),Counter(df['Response']).values())\n",
    "plt.xticks([0,1])\n",
    "plt.title('Responses in original dataset')\n",
    "plt.subplot(1,2,2)\n",
    "plt.bar(Counter(mdf['Response']).keys(),Counter(mdf['Response']).values())\n",
    "plt.xticks([0,1])\n",
    "plt.title('Responses in reduced dataset')\n",
    "plt.show()"
   ]
  },
  {
   "cell_type": "code",
   "execution_count": 18,
   "metadata": {
    "id": "X0VdCnAdruBa"
   },
   "outputs": [],
   "source": [
    "df = mdf.copy()"
   ]
  },
  {
   "cell_type": "markdown",
   "metadata": {
    "id": "0ois5VxoDUx8"
   },
   "source": [
    "."
   ]
  },
  {
   "cell_type": "markdown",
   "metadata": {
    "id": "sH5Ywf585o09"
   },
   "source": [
    "We can clearly visualise the imbalance of the number of observations. 0 denotes the people who have not opted for automobile insurance from the insurance firm and 1 denotes those who have. It agrees with our intuition that only a small fraction of the original number of clients will agree to enroll themselves into a new scheme.\n",
    "\n",
    "Although I had said before that there will not be any EDA in this project, it can be mentioned that certain features such as region code, vehicle age and policy sales channel can be important features to analyse for targeted advertisement and marketing to draw more customers. With that out of the way, let's carry on."
   ]
  },
  {
   "cell_type": "markdown",
   "metadata": {
    "id": "UCFoAjIaDWEo"
   },
   "source": [
    "."
   ]
  },
  {
   "cell_type": "code",
   "execution_count": null,
   "metadata": {
    "colab": {
     "base_uri": "https://localhost:8080/"
    },
    "id": "uCam5T0Frmp5",
    "outputId": "6309a0e1-1f99-416b-b9ae-d8e449c61b69"
   },
   "outputs": [
    {
     "data": {
      "text/plain": [
       "(10000, 12)"
      ]
     },
     "execution_count": 52,
     "metadata": {},
     "output_type": "execute_result"
    }
   ],
   "source": [
    "df.shape"
   ]
  },
  {
   "cell_type": "code",
   "execution_count": 19,
   "metadata": {
    "colab": {
     "base_uri": "https://localhost:8080/",
     "height": 300
    },
    "id": "qSkZUgWHdyCL",
    "outputId": "fb600164-ec24-4dda-ff4b-7cef938595f3"
   },
   "outputs": [
    {
     "data": {
      "text/html": [
       "\n",
       "  <div id=\"df-4cf31e61-ba33-464a-8e68-c21e85cfe11a\">\n",
       "    <div class=\"colab-df-container\">\n",
       "      <div>\n",
       "<style scoped>\n",
       "    .dataframe tbody tr th:only-of-type {\n",
       "        vertical-align: middle;\n",
       "    }\n",
       "\n",
       "    .dataframe tbody tr th {\n",
       "        vertical-align: top;\n",
       "    }\n",
       "\n",
       "    .dataframe thead th {\n",
       "        text-align: right;\n",
       "    }\n",
       "</style>\n",
       "<table border=\"1\" class=\"dataframe\">\n",
       "  <thead>\n",
       "    <tr style=\"text-align: right;\">\n",
       "      <th></th>\n",
       "      <th>Age</th>\n",
       "      <th>Annual_Premium</th>\n",
       "      <th>Response</th>\n",
       "      <th>Gender_Female</th>\n",
       "      <th>Gender_Male</th>\n",
       "      <th>Driving_License_0</th>\n",
       "      <th>Driving_License_1</th>\n",
       "      <th>Region_Code_0.0</th>\n",
       "      <th>Region_Code_1.0</th>\n",
       "      <th>Region_Code_2.0</th>\n",
       "      <th>...</th>\n",
       "      <th>Vintage_290</th>\n",
       "      <th>Vintage_291</th>\n",
       "      <th>Vintage_292</th>\n",
       "      <th>Vintage_293</th>\n",
       "      <th>Vintage_294</th>\n",
       "      <th>Vintage_295</th>\n",
       "      <th>Vintage_296</th>\n",
       "      <th>Vintage_297</th>\n",
       "      <th>Vintage_298</th>\n",
       "      <th>Vintage_299</th>\n",
       "    </tr>\n",
       "  </thead>\n",
       "  <tbody>\n",
       "    <tr>\n",
       "      <th>0</th>\n",
       "      <td>31</td>\n",
       "      <td>31737.0</td>\n",
       "      <td>1</td>\n",
       "      <td>1</td>\n",
       "      <td>0</td>\n",
       "      <td>0</td>\n",
       "      <td>1</td>\n",
       "      <td>0</td>\n",
       "      <td>0</td>\n",
       "      <td>0</td>\n",
       "      <td>...</td>\n",
       "      <td>0</td>\n",
       "      <td>0</td>\n",
       "      <td>0</td>\n",
       "      <td>0</td>\n",
       "      <td>0</td>\n",
       "      <td>0</td>\n",
       "      <td>0</td>\n",
       "      <td>0</td>\n",
       "      <td>0</td>\n",
       "      <td>0</td>\n",
       "    </tr>\n",
       "    <tr>\n",
       "      <th>1</th>\n",
       "      <td>67</td>\n",
       "      <td>43707.0</td>\n",
       "      <td>0</td>\n",
       "      <td>1</td>\n",
       "      <td>0</td>\n",
       "      <td>0</td>\n",
       "      <td>1</td>\n",
       "      <td>0</td>\n",
       "      <td>0</td>\n",
       "      <td>0</td>\n",
       "      <td>...</td>\n",
       "      <td>0</td>\n",
       "      <td>0</td>\n",
       "      <td>0</td>\n",
       "      <td>0</td>\n",
       "      <td>0</td>\n",
       "      <td>0</td>\n",
       "      <td>0</td>\n",
       "      <td>0</td>\n",
       "      <td>0</td>\n",
       "      <td>0</td>\n",
       "    </tr>\n",
       "    <tr>\n",
       "      <th>2</th>\n",
       "      <td>77</td>\n",
       "      <td>2630.0</td>\n",
       "      <td>0</td>\n",
       "      <td>0</td>\n",
       "      <td>1</td>\n",
       "      <td>0</td>\n",
       "      <td>1</td>\n",
       "      <td>0</td>\n",
       "      <td>0</td>\n",
       "      <td>0</td>\n",
       "      <td>...</td>\n",
       "      <td>0</td>\n",
       "      <td>0</td>\n",
       "      <td>0</td>\n",
       "      <td>0</td>\n",
       "      <td>0</td>\n",
       "      <td>0</td>\n",
       "      <td>0</td>\n",
       "      <td>0</td>\n",
       "      <td>0</td>\n",
       "      <td>0</td>\n",
       "    </tr>\n",
       "    <tr>\n",
       "      <th>3</th>\n",
       "      <td>24</td>\n",
       "      <td>28204.0</td>\n",
       "      <td>0</td>\n",
       "      <td>1</td>\n",
       "      <td>0</td>\n",
       "      <td>0</td>\n",
       "      <td>1</td>\n",
       "      <td>0</td>\n",
       "      <td>0</td>\n",
       "      <td>0</td>\n",
       "      <td>...</td>\n",
       "      <td>0</td>\n",
       "      <td>0</td>\n",
       "      <td>0</td>\n",
       "      <td>0</td>\n",
       "      <td>0</td>\n",
       "      <td>0</td>\n",
       "      <td>0</td>\n",
       "      <td>0</td>\n",
       "      <td>0</td>\n",
       "      <td>0</td>\n",
       "    </tr>\n",
       "    <tr>\n",
       "      <th>4</th>\n",
       "      <td>49</td>\n",
       "      <td>47437.0</td>\n",
       "      <td>0</td>\n",
       "      <td>0</td>\n",
       "      <td>1</td>\n",
       "      <td>0</td>\n",
       "      <td>1</td>\n",
       "      <td>0</td>\n",
       "      <td>0</td>\n",
       "      <td>0</td>\n",
       "      <td>...</td>\n",
       "      <td>0</td>\n",
       "      <td>0</td>\n",
       "      <td>0</td>\n",
       "      <td>0</td>\n",
       "      <td>0</td>\n",
       "      <td>0</td>\n",
       "      <td>0</td>\n",
       "      <td>0</td>\n",
       "      <td>0</td>\n",
       "      <td>0</td>\n",
       "    </tr>\n",
       "  </tbody>\n",
       "</table>\n",
       "<p>5 rows × 451 columns</p>\n",
       "</div>\n",
       "      <button class=\"colab-df-convert\" onclick=\"convertToInteractive('df-4cf31e61-ba33-464a-8e68-c21e85cfe11a')\"\n",
       "              title=\"Convert this dataframe to an interactive table.\"\n",
       "              style=\"display:none;\">\n",
       "        \n",
       "  <svg xmlns=\"http://www.w3.org/2000/svg\" height=\"24px\"viewBox=\"0 0 24 24\"\n",
       "       width=\"24px\">\n",
       "    <path d=\"M0 0h24v24H0V0z\" fill=\"none\"/>\n",
       "    <path d=\"M18.56 5.44l.94 2.06.94-2.06 2.06-.94-2.06-.94-.94-2.06-.94 2.06-2.06.94zm-11 1L8.5 8.5l.94-2.06 2.06-.94-2.06-.94L8.5 2.5l-.94 2.06-2.06.94zm10 10l.94 2.06.94-2.06 2.06-.94-2.06-.94-.94-2.06-.94 2.06-2.06.94z\"/><path d=\"M17.41 7.96l-1.37-1.37c-.4-.4-.92-.59-1.43-.59-.52 0-1.04.2-1.43.59L10.3 9.45l-7.72 7.72c-.78.78-.78 2.05 0 2.83L4 21.41c.39.39.9.59 1.41.59.51 0 1.02-.2 1.41-.59l7.78-7.78 2.81-2.81c.8-.78.8-2.07 0-2.86zM5.41 20L4 18.59l7.72-7.72 1.47 1.35L5.41 20z\"/>\n",
       "  </svg>\n",
       "      </button>\n",
       "      \n",
       "  <style>\n",
       "    .colab-df-container {\n",
       "      display:flex;\n",
       "      flex-wrap:wrap;\n",
       "      gap: 12px;\n",
       "    }\n",
       "\n",
       "    .colab-df-convert {\n",
       "      background-color: #E8F0FE;\n",
       "      border: none;\n",
       "      border-radius: 50%;\n",
       "      cursor: pointer;\n",
       "      display: none;\n",
       "      fill: #1967D2;\n",
       "      height: 32px;\n",
       "      padding: 0 0 0 0;\n",
       "      width: 32px;\n",
       "    }\n",
       "\n",
       "    .colab-df-convert:hover {\n",
       "      background-color: #E2EBFA;\n",
       "      box-shadow: 0px 1px 2px rgba(60, 64, 67, 0.3), 0px 1px 3px 1px rgba(60, 64, 67, 0.15);\n",
       "      fill: #174EA6;\n",
       "    }\n",
       "\n",
       "    [theme=dark] .colab-df-convert {\n",
       "      background-color: #3B4455;\n",
       "      fill: #D2E3FC;\n",
       "    }\n",
       "\n",
       "    [theme=dark] .colab-df-convert:hover {\n",
       "      background-color: #434B5C;\n",
       "      box-shadow: 0px 1px 3px 1px rgba(0, 0, 0, 0.15);\n",
       "      filter: drop-shadow(0px 1px 2px rgba(0, 0, 0, 0.3));\n",
       "      fill: #FFFFFF;\n",
       "    }\n",
       "  </style>\n",
       "\n",
       "      <script>\n",
       "        const buttonEl =\n",
       "          document.querySelector('#df-4cf31e61-ba33-464a-8e68-c21e85cfe11a button.colab-df-convert');\n",
       "        buttonEl.style.display =\n",
       "          google.colab.kernel.accessAllowed ? 'block' : 'none';\n",
       "\n",
       "        async function convertToInteractive(key) {\n",
       "          const element = document.querySelector('#df-4cf31e61-ba33-464a-8e68-c21e85cfe11a');\n",
       "          const dataTable =\n",
       "            await google.colab.kernel.invokeFunction('convertToInteractive',\n",
       "                                                     [key], {});\n",
       "          if (!dataTable) return;\n",
       "\n",
       "          const docLinkHtml = 'Like what you see? Visit the ' +\n",
       "            '<a target=\"_blank\" href=https://colab.research.google.com/notebooks/data_table.ipynb>data table notebook</a>'\n",
       "            + ' to learn more about interactive tables.';\n",
       "          element.innerHTML = '';\n",
       "          dataTable['output_type'] = 'display_data';\n",
       "          await google.colab.output.renderOutput(dataTable, element);\n",
       "          const docLink = document.createElement('div');\n",
       "          docLink.innerHTML = docLinkHtml;\n",
       "          element.appendChild(docLink);\n",
       "        }\n",
       "      </script>\n",
       "    </div>\n",
       "  </div>\n",
       "  "
      ],
      "text/plain": [
       "   Age  Annual_Premium  Response  Gender_Female  Gender_Male  \\\n",
       "0   31         31737.0         1              1            0   \n",
       "1   67         43707.0         0              1            0   \n",
       "2   77          2630.0         0              0            1   \n",
       "3   24         28204.0         0              1            0   \n",
       "4   49         47437.0         0              0            1   \n",
       "\n",
       "   Driving_License_0  Driving_License_1  Region_Code_0.0  Region_Code_1.0  \\\n",
       "0                  0                  1                0                0   \n",
       "1                  0                  1                0                0   \n",
       "2                  0                  1                0                0   \n",
       "3                  0                  1                0                0   \n",
       "4                  0                  1                0                0   \n",
       "\n",
       "   Region_Code_2.0  ...  Vintage_290  Vintage_291  Vintage_292  Vintage_293  \\\n",
       "0                0  ...            0            0            0            0   \n",
       "1                0  ...            0            0            0            0   \n",
       "2                0  ...            0            0            0            0   \n",
       "3                0  ...            0            0            0            0   \n",
       "4                0  ...            0            0            0            0   \n",
       "\n",
       "   Vintage_294  Vintage_295  Vintage_296  Vintage_297  Vintage_298  \\\n",
       "0            0            0            0            0            0   \n",
       "1            0            0            0            0            0   \n",
       "2            0            0            0            0            0   \n",
       "3            0            0            0            0            0   \n",
       "4            0            0            0            0            0   \n",
       "\n",
       "   Vintage_299  \n",
       "0            0  \n",
       "1            0  \n",
       "2            0  \n",
       "3            0  \n",
       "4            0  \n",
       "\n",
       "[5 rows x 451 columns]"
      ]
     },
     "execution_count": 19,
     "metadata": {},
     "output_type": "execute_result"
    }
   ],
   "source": [
    "df.drop(columns=['id'], inplace=True)\n",
    "categorical_features = [x for x in df.columns.values if x not in ['Age', 'Annual_Premium', 'Response']]       # defining categorcal features\n",
    "df = pd.get_dummies(df, columns = categorical_features)               # a quicker way to encode categorical features than one-hot encoding\n",
    "df.head()"
   ]
  },
  {
   "cell_type": "code",
   "execution_count": 20,
   "metadata": {
    "id": "B4Q7q0SxDEXc"
   },
   "outputs": [],
   "source": [
    "# define features and labels\n",
    "\n",
    "features = list(df.columns.values)\n",
    "features.remove('Response')\n",
    "\n",
    "labels = ['Response']"
   ]
  },
  {
   "cell_type": "code",
   "execution_count": 21,
   "metadata": {
    "id": "7uNucQ3GDauJ"
   },
   "outputs": [],
   "source": [
    "X = df[features]\n",
    "y = df[labels]"
   ]
  },
  {
   "cell_type": "markdown",
   "metadata": {
    "id": "bH4F83exDYq2"
   },
   "source": [
    "."
   ]
  },
  {
   "cell_type": "markdown",
   "metadata": {
    "id": "b-6GJI7WFeyZ"
   },
   "source": [
    "**Scaling the features:** I have used min max scaler in this case to preserve the binary form of the data in the categorical features. Normally standard scaler should be used as the only 2 continuous distribution features (age and annual premium) do not have a defined minimum and maximum but it should be fine as it is being applied on the whole dataset. Problems may arise if first min-max scaler is used to 'fit-transform' training dataset and then 'transform' is applied on test. In that case, standard scaler can be applied to individual features such as df[feature] = scaler.fit_transform(df[feature])"
   ]
  },
  {
   "cell_type": "markdown",
   "metadata": {
    "id": "gLSWntrYDZra"
   },
   "source": [
    "."
   ]
  },
  {
   "cell_type": "code",
   "execution_count": 22,
   "metadata": {
    "colab": {
     "base_uri": "https://localhost:8080/",
     "height": 300
    },
    "id": "_EdAz1ZhzSZg",
    "outputId": "203f703d-1ce9-4823-dbce-42273355e466"
   },
   "outputs": [
    {
     "data": {
      "text/html": [
       "\n",
       "  <div id=\"df-d0fc0797-d244-4d11-8b91-027479aa3e59\">\n",
       "    <div class=\"colab-df-container\">\n",
       "      <div>\n",
       "<style scoped>\n",
       "    .dataframe tbody tr th:only-of-type {\n",
       "        vertical-align: middle;\n",
       "    }\n",
       "\n",
       "    .dataframe tbody tr th {\n",
       "        vertical-align: top;\n",
       "    }\n",
       "\n",
       "    .dataframe thead th {\n",
       "        text-align: right;\n",
       "    }\n",
       "</style>\n",
       "<table border=\"1\" class=\"dataframe\">\n",
       "  <thead>\n",
       "    <tr style=\"text-align: right;\">\n",
       "      <th></th>\n",
       "      <th>Age</th>\n",
       "      <th>Annual_Premium</th>\n",
       "      <th>Gender_Female</th>\n",
       "      <th>Gender_Male</th>\n",
       "      <th>Driving_License_0</th>\n",
       "      <th>Driving_License_1</th>\n",
       "      <th>Region_Code_0.0</th>\n",
       "      <th>Region_Code_1.0</th>\n",
       "      <th>Region_Code_2.0</th>\n",
       "      <th>Region_Code_3.0</th>\n",
       "      <th>...</th>\n",
       "      <th>Vintage_290</th>\n",
       "      <th>Vintage_291</th>\n",
       "      <th>Vintage_292</th>\n",
       "      <th>Vintage_293</th>\n",
       "      <th>Vintage_294</th>\n",
       "      <th>Vintage_295</th>\n",
       "      <th>Vintage_296</th>\n",
       "      <th>Vintage_297</th>\n",
       "      <th>Vintage_298</th>\n",
       "      <th>Vintage_299</th>\n",
       "    </tr>\n",
       "  </thead>\n",
       "  <tbody>\n",
       "    <tr>\n",
       "      <th>0</th>\n",
       "      <td>0.171875</td>\n",
       "      <td>0.124894</td>\n",
       "      <td>1.0</td>\n",
       "      <td>0.0</td>\n",
       "      <td>0.0</td>\n",
       "      <td>1.0</td>\n",
       "      <td>0.0</td>\n",
       "      <td>0.0</td>\n",
       "      <td>0.0</td>\n",
       "      <td>0.0</td>\n",
       "      <td>...</td>\n",
       "      <td>0.0</td>\n",
       "      <td>0.0</td>\n",
       "      <td>0.0</td>\n",
       "      <td>0.0</td>\n",
       "      <td>0.0</td>\n",
       "      <td>0.0</td>\n",
       "      <td>0.0</td>\n",
       "      <td>0.0</td>\n",
       "      <td>0.0</td>\n",
       "      <td>0.0</td>\n",
       "    </tr>\n",
       "    <tr>\n",
       "      <th>1</th>\n",
       "      <td>0.734375</td>\n",
       "      <td>0.176256</td>\n",
       "      <td>1.0</td>\n",
       "      <td>0.0</td>\n",
       "      <td>0.0</td>\n",
       "      <td>1.0</td>\n",
       "      <td>0.0</td>\n",
       "      <td>0.0</td>\n",
       "      <td>0.0</td>\n",
       "      <td>0.0</td>\n",
       "      <td>...</td>\n",
       "      <td>0.0</td>\n",
       "      <td>0.0</td>\n",
       "      <td>0.0</td>\n",
       "      <td>0.0</td>\n",
       "      <td>0.0</td>\n",
       "      <td>0.0</td>\n",
       "      <td>0.0</td>\n",
       "      <td>0.0</td>\n",
       "      <td>0.0</td>\n",
       "      <td>0.0</td>\n",
       "    </tr>\n",
       "    <tr>\n",
       "      <th>2</th>\n",
       "      <td>0.890625</td>\n",
       "      <td>0.000000</td>\n",
       "      <td>0.0</td>\n",
       "      <td>1.0</td>\n",
       "      <td>0.0</td>\n",
       "      <td>1.0</td>\n",
       "      <td>0.0</td>\n",
       "      <td>0.0</td>\n",
       "      <td>0.0</td>\n",
       "      <td>0.0</td>\n",
       "      <td>...</td>\n",
       "      <td>0.0</td>\n",
       "      <td>0.0</td>\n",
       "      <td>0.0</td>\n",
       "      <td>0.0</td>\n",
       "      <td>0.0</td>\n",
       "      <td>0.0</td>\n",
       "      <td>0.0</td>\n",
       "      <td>0.0</td>\n",
       "      <td>0.0</td>\n",
       "      <td>0.0</td>\n",
       "    </tr>\n",
       "    <tr>\n",
       "      <th>3</th>\n",
       "      <td>0.062500</td>\n",
       "      <td>0.109735</td>\n",
       "      <td>1.0</td>\n",
       "      <td>0.0</td>\n",
       "      <td>0.0</td>\n",
       "      <td>1.0</td>\n",
       "      <td>0.0</td>\n",
       "      <td>0.0</td>\n",
       "      <td>0.0</td>\n",
       "      <td>0.0</td>\n",
       "      <td>...</td>\n",
       "      <td>0.0</td>\n",
       "      <td>0.0</td>\n",
       "      <td>0.0</td>\n",
       "      <td>0.0</td>\n",
       "      <td>0.0</td>\n",
       "      <td>0.0</td>\n",
       "      <td>0.0</td>\n",
       "      <td>0.0</td>\n",
       "      <td>0.0</td>\n",
       "      <td>0.0</td>\n",
       "    </tr>\n",
       "    <tr>\n",
       "      <th>4</th>\n",
       "      <td>0.453125</td>\n",
       "      <td>0.192261</td>\n",
       "      <td>0.0</td>\n",
       "      <td>1.0</td>\n",
       "      <td>0.0</td>\n",
       "      <td>1.0</td>\n",
       "      <td>0.0</td>\n",
       "      <td>0.0</td>\n",
       "      <td>0.0</td>\n",
       "      <td>0.0</td>\n",
       "      <td>...</td>\n",
       "      <td>0.0</td>\n",
       "      <td>0.0</td>\n",
       "      <td>0.0</td>\n",
       "      <td>0.0</td>\n",
       "      <td>0.0</td>\n",
       "      <td>0.0</td>\n",
       "      <td>0.0</td>\n",
       "      <td>0.0</td>\n",
       "      <td>0.0</td>\n",
       "      <td>0.0</td>\n",
       "    </tr>\n",
       "  </tbody>\n",
       "</table>\n",
       "<p>5 rows × 450 columns</p>\n",
       "</div>\n",
       "      <button class=\"colab-df-convert\" onclick=\"convertToInteractive('df-d0fc0797-d244-4d11-8b91-027479aa3e59')\"\n",
       "              title=\"Convert this dataframe to an interactive table.\"\n",
       "              style=\"display:none;\">\n",
       "        \n",
       "  <svg xmlns=\"http://www.w3.org/2000/svg\" height=\"24px\"viewBox=\"0 0 24 24\"\n",
       "       width=\"24px\">\n",
       "    <path d=\"M0 0h24v24H0V0z\" fill=\"none\"/>\n",
       "    <path d=\"M18.56 5.44l.94 2.06.94-2.06 2.06-.94-2.06-.94-.94-2.06-.94 2.06-2.06.94zm-11 1L8.5 8.5l.94-2.06 2.06-.94-2.06-.94L8.5 2.5l-.94 2.06-2.06.94zm10 10l.94 2.06.94-2.06 2.06-.94-2.06-.94-.94-2.06-.94 2.06-2.06.94z\"/><path d=\"M17.41 7.96l-1.37-1.37c-.4-.4-.92-.59-1.43-.59-.52 0-1.04.2-1.43.59L10.3 9.45l-7.72 7.72c-.78.78-.78 2.05 0 2.83L4 21.41c.39.39.9.59 1.41.59.51 0 1.02-.2 1.41-.59l7.78-7.78 2.81-2.81c.8-.78.8-2.07 0-2.86zM5.41 20L4 18.59l7.72-7.72 1.47 1.35L5.41 20z\"/>\n",
       "  </svg>\n",
       "      </button>\n",
       "      \n",
       "  <style>\n",
       "    .colab-df-container {\n",
       "      display:flex;\n",
       "      flex-wrap:wrap;\n",
       "      gap: 12px;\n",
       "    }\n",
       "\n",
       "    .colab-df-convert {\n",
       "      background-color: #E8F0FE;\n",
       "      border: none;\n",
       "      border-radius: 50%;\n",
       "      cursor: pointer;\n",
       "      display: none;\n",
       "      fill: #1967D2;\n",
       "      height: 32px;\n",
       "      padding: 0 0 0 0;\n",
       "      width: 32px;\n",
       "    }\n",
       "\n",
       "    .colab-df-convert:hover {\n",
       "      background-color: #E2EBFA;\n",
       "      box-shadow: 0px 1px 2px rgba(60, 64, 67, 0.3), 0px 1px 3px 1px rgba(60, 64, 67, 0.15);\n",
       "      fill: #174EA6;\n",
       "    }\n",
       "\n",
       "    [theme=dark] .colab-df-convert {\n",
       "      background-color: #3B4455;\n",
       "      fill: #D2E3FC;\n",
       "    }\n",
       "\n",
       "    [theme=dark] .colab-df-convert:hover {\n",
       "      background-color: #434B5C;\n",
       "      box-shadow: 0px 1px 3px 1px rgba(0, 0, 0, 0.15);\n",
       "      filter: drop-shadow(0px 1px 2px rgba(0, 0, 0, 0.3));\n",
       "      fill: #FFFFFF;\n",
       "    }\n",
       "  </style>\n",
       "\n",
       "      <script>\n",
       "        const buttonEl =\n",
       "          document.querySelector('#df-d0fc0797-d244-4d11-8b91-027479aa3e59 button.colab-df-convert');\n",
       "        buttonEl.style.display =\n",
       "          google.colab.kernel.accessAllowed ? 'block' : 'none';\n",
       "\n",
       "        async function convertToInteractive(key) {\n",
       "          const element = document.querySelector('#df-d0fc0797-d244-4d11-8b91-027479aa3e59');\n",
       "          const dataTable =\n",
       "            await google.colab.kernel.invokeFunction('convertToInteractive',\n",
       "                                                     [key], {});\n",
       "          if (!dataTable) return;\n",
       "\n",
       "          const docLinkHtml = 'Like what you see? Visit the ' +\n",
       "            '<a target=\"_blank\" href=https://colab.research.google.com/notebooks/data_table.ipynb>data table notebook</a>'\n",
       "            + ' to learn more about interactive tables.';\n",
       "          element.innerHTML = '';\n",
       "          dataTable['output_type'] = 'display_data';\n",
       "          await google.colab.output.renderOutput(dataTable, element);\n",
       "          const docLink = document.createElement('div');\n",
       "          docLink.innerHTML = docLinkHtml;\n",
       "          element.appendChild(docLink);\n",
       "        }\n",
       "      </script>\n",
       "    </div>\n",
       "  </div>\n",
       "  "
      ],
      "text/plain": [
       "        Age  Annual_Premium  Gender_Female  Gender_Male  Driving_License_0  \\\n",
       "0  0.171875        0.124894            1.0          0.0                0.0   \n",
       "1  0.734375        0.176256            1.0          0.0                0.0   \n",
       "2  0.890625        0.000000            0.0          1.0                0.0   \n",
       "3  0.062500        0.109735            1.0          0.0                0.0   \n",
       "4  0.453125        0.192261            0.0          1.0                0.0   \n",
       "\n",
       "   Driving_License_1  Region_Code_0.0  Region_Code_1.0  Region_Code_2.0  \\\n",
       "0                1.0              0.0              0.0              0.0   \n",
       "1                1.0              0.0              0.0              0.0   \n",
       "2                1.0              0.0              0.0              0.0   \n",
       "3                1.0              0.0              0.0              0.0   \n",
       "4                1.0              0.0              0.0              0.0   \n",
       "\n",
       "   Region_Code_3.0  ...  Vintage_290  Vintage_291  Vintage_292  Vintage_293  \\\n",
       "0              0.0  ...          0.0          0.0          0.0          0.0   \n",
       "1              0.0  ...          0.0          0.0          0.0          0.0   \n",
       "2              0.0  ...          0.0          0.0          0.0          0.0   \n",
       "3              0.0  ...          0.0          0.0          0.0          0.0   \n",
       "4              0.0  ...          0.0          0.0          0.0          0.0   \n",
       "\n",
       "   Vintage_294  Vintage_295  Vintage_296  Vintage_297  Vintage_298  \\\n",
       "0          0.0          0.0          0.0          0.0          0.0   \n",
       "1          0.0          0.0          0.0          0.0          0.0   \n",
       "2          0.0          0.0          0.0          0.0          0.0   \n",
       "3          0.0          0.0          0.0          0.0          0.0   \n",
       "4          0.0          0.0          0.0          0.0          0.0   \n",
       "\n",
       "   Vintage_299  \n",
       "0          0.0  \n",
       "1          0.0  \n",
       "2          0.0  \n",
       "3          0.0  \n",
       "4          0.0  \n",
       "\n",
       "[5 rows x 450 columns]"
      ]
     },
     "execution_count": 22,
     "metadata": {},
     "output_type": "execute_result"
    }
   ],
   "source": [
    "scaler = MinMaxScaler(feature_range=(0,1))\n",
    "\n",
    "scaled_X = scaler.fit_transform(X)\n",
    "pd.DataFrame(scaled_X, columns=X.columns.values).head()"
   ]
  },
  {
   "cell_type": "markdown",
   "metadata": {
    "id": "zizUKTX4cUGE"
   },
   "source": [
    "# **Data Modelling**"
   ]
  },
  {
   "cell_type": "code",
   "execution_count": 12,
   "metadata": {
    "id": "fLEjv6Q6wH9Q"
   },
   "outputs": [],
   "source": [
    "X_train, X_test, y_train, y_test = train_test_split(scaled_X, y, test_size=0.2, random_state=9)"
   ]
  },
  {
   "cell_type": "markdown",
   "metadata": {
    "id": "J42QlYY_IfXH"
   },
   "source": [
    "Finally we have arrived at the data modelling part. The features and labels have been split into train and test. In the bar plot below, we can see that the proportion of imbalance between the label classes has been maintained after the split."
   ]
  },
  {
   "cell_type": "markdown",
   "metadata": {
    "id": "5upVv_fEDcMg"
   },
   "source": [
    "."
   ]
  },
  {
   "cell_type": "code",
   "execution_count": 13,
   "metadata": {
    "colab": {
     "base_uri": "https://localhost:8080/",
     "height": 452
    },
    "id": "3RkTFm3Rg5qW",
    "outputId": "19010f3e-b1ac-4cd3-f182-aff32fa6bf99"
   },
   "outputs": [
    {
     "data": {
      "image/png": "[encoded data removed]",
      "text/plain": [
       "<Figure size 640x480 with 2 Axes>"
      ]
     },
     "metadata": {},
     "output_type": "display_data"
    }
   ],
   "source": [
    "plt.subplot(1,2,1)\n",
    "plt.bar(Counter(y_train['Response']).keys(),Counter(y_train['Response']).values())\n",
    "plt.xticks([0,1])\n",
    "plt.title('Training set')\n",
    "plt.subplot(1,2,2)\n",
    "plt.bar(Counter(y_test['Response']).keys(),Counter(y_test['Response']).values())\n",
    "plt.xticks([0,1])\n",
    "plt.title('Test set')\n",
    "plt.show()"
   ]
  },
  {
   "cell_type": "markdown",
   "metadata": {
    "id": "qk4F6OZBcb3E"
   },
   "source": [
    "## Base classifier"
   ]
  },
  {
   "cell_type": "markdown",
   "metadata": {
    "id": "KLbSj-EGJR4i"
   },
   "source": [
    "Random Forest classifier has been used for this problem as decisions such as this do not follow a strict sequence. For example, a person may have an old vehicle that has suffered damage in the past so they might want the car insurance but they are already paying a high premium for health insurance and therefore cannot afford the former. Or a certain policy sales channel might be very efficient at selling policies but it wouldn't matter if the customer doesn't have a valid driving license (or doesn't have an automobile).\n",
    "\n",
    "\n",
    "In the first instance, we will test the performance of the base classifier (with default parameters) on the imbalanced dataset and discuss the results."
   ]
  },
  {
   "cell_type": "markdown",
   "metadata": {
    "id": "cgnf6gtxDesQ"
   },
   "source": [
    "."
   ]
  },
  {
   "cell_type": "code",
   "execution_count": null,
   "metadata": {
    "id": "XrUeeFajz8SB"
   },
   "outputs": [],
   "source": [
    "# checking performance of base classifier\n",
    "\n",
    "model = RandomForestClassifier()\n",
    "\n",
    "model.fit(X_train, y_train)"
   ]
  },
  {
   "cell_type": "code",
   "execution_count": null,
   "metadata": {
    "colab": {
     "base_uri": "https://localhost:8080/"
    },
    "id": "per3fHKR00go",
    "outputId": "813d46b0-92cd-4ccc-b3ce-a6abe9d8c4a6"
   },
   "outputs": [
    {
     "name": "stdout",
     "output_type": "stream",
     "text": [
      "              precision    recall  f1-score   support\n",
      "\n",
      "           0       0.88      0.95      0.91      1696\n",
      "           1       0.49      0.29      0.37       304\n",
      "\n",
      "    accuracy                           0.85      2000\n",
      "   macro avg       0.69      0.62      0.64      2000\n",
      "weighted avg       0.82      0.85      0.83      2000\n",
      "\n"
     ]
    }
   ],
   "source": [
    "y_pred = model.predict(X_test)\n",
    "print(classification_report(y_test, y_pred))"
   ]
  },
  {
   "cell_type": "code",
   "execution_count": null,
   "metadata": {
    "colab": {
     "base_uri": "https://localhost:8080/",
     "height": 453
    },
    "id": "GzZWzoB81Euy",
    "outputId": "411f0491-c1b0-4820-bbc9-7aa5aef6aa27"
   },
   "outputs": [
    {
     "data": {
      "image/png": "[encoded data removed]",
      "text/plain": [
       "<Figure size 640x480 with 2 Axes>"
      ]
     },
     "metadata": {},
     "output_type": "display_data"
    }
   ],
   "source": [
    "metrics.ConfusionMatrixDisplay(confusion_matrix = metrics.confusion_matrix(y_test, y_pred)).plot()\n",
    "plt.show()"
   ]
  },
  {
   "cell_type": "markdown",
   "metadata": {
    "id": "ri9lgEbcDhD-"
   },
   "source": [
    "."
   ]
  },
  {
   "cell_type": "markdown",
   "metadata": {
    "id": "FJZiUTNKN0Sx"
   },
   "source": [
    "We see in the classification report that the values of precision, recall and f-score is close to 1 (which is good) for label 0 but very low for label 1 (label 1 = those who bought auto insurance policies). It is more clear in the confusion matrix. Our model was able to predict those who won't buy policies quite well but due to the imbalance, it was not able to predict the ones who bought auto insurance policies. It was more biased towards 0 labels as they were much higher in number in the training set.\n",
    "\n",
    "This is where we see that the model is not performing as expected. In a business, there will be a certain tolerance towards misclassification of the negative labels (in this case 0) as positive (1). But misclassification of a 1 as 0 means rejecting a potential customer which is bad for the business. Often, the actual challenge in these problems is to predict the minority classes well. For example, in student admissions, out of thousands of applications, only a few will be selected. In this case, the selected students are the minority class.\n",
    "\n",
    "A natural instinct to solve such problems would be to try and increase the accuracy of the model by tuning the hyperparameters. We will try it in the next section."
   ]
  },
  {
   "cell_type": "markdown",
   "metadata": {
    "id": "oJINLp2GDiOT"
   },
   "source": [
    "."
   ]
  },
  {
   "cell_type": "markdown",
   "metadata": {
    "id": "rxMl2r9Gcil2"
   },
   "source": [
    "## Hyperparameter tuning with different scoring metrics"
   ]
  },
  {
   "cell_type": "code",
   "execution_count": null,
   "metadata": {
    "id": "YhGnVnWW_zCT"
   },
   "outputs": [],
   "source": [
    "# defining the list of parameters and then using grid search cv\n",
    "# to determine the best combination against a chosen scoring metric\n",
    "\n",
    "n_estimators = [10, 50, 100, 200, 500]\n",
    "max_features = [None, 'sqrt', 'log2']\n",
    "class_weight = [None, 'balanced']\n",
    "n_jobs = [-1]\n",
    "\n",
    "grid_rf = {'n_estimators': n_estimators,\n",
    "           'max_features': max_features,\n",
    "           'class_weight': class_weight,\n",
    "           'n_jobs': n_jobs}"
   ]
  },
  {
   "cell_type": "markdown",
   "metadata": {
    "id": "Irn62WNFc4Uy"
   },
   "source": [
    "### Scoring metric: Accuracy"
   ]
  },
  {
   "cell_type": "code",
   "execution_count": null,
   "metadata": {
    "id": "qkWD6QvSiNno"
   },
   "outputs": [],
   "source": [
    "randomforest_gridsearch_acc = GridSearchCV(estimator=RandomForestClassifier(), param_grid=grid_rf, cv=5, scoring='accuracy', verbose=4)\n",
    "randomforest_gridsearch_acc.fit(X_train, y_train)"
   ]
  },
  {
   "cell_type": "code",
   "execution_count": null,
   "metadata": {
    "colab": {
     "base_uri": "https://localhost:8080/",
     "height": 608
    },
    "id": "VPLkTlW4iTxN",
    "outputId": "c0969815-2400-49b6-e089-0a67370bfce1"
   },
   "outputs": [
    {
     "name": "stdout",
     "output_type": "stream",
     "text": [
      "              precision    recall  f1-score   support\n",
      "\n",
      "           0       0.88      0.95      0.91      1696\n",
      "           1       0.51      0.28      0.36       304\n",
      "\n",
      "    accuracy                           0.85      2000\n",
      "   macro avg       0.69      0.61      0.64      2000\n",
      "weighted avg       0.82      0.85      0.83      2000\n",
      "\n"
     ]
    },
    {
     "data": {
      "image/png": "[encoded data removed]",
      "text/plain": [
       "<Figure size 640x480 with 2 Axes>"
      ]
     },
     "metadata": {},
     "output_type": "display_data"
    }
   ],
   "source": [
    "model = randomforest_gridsearch_acc.best_estimator_\n",
    "y_pred = model.predict(X_test)\n",
    "\n",
    "print(classification_report(y_test, y_pred))\n",
    "metrics.ConfusionMatrixDisplay(confusion_matrix = metrics.confusion_matrix(y_test, y_pred)).plot()\n",
    "plt.show()"
   ]
  },
  {
   "cell_type": "markdown",
   "metadata": {
    "id": "n_IuUCCvDkMv"
   },
   "source": [
    "."
   ]
  },
  {
   "cell_type": "markdown",
   "metadata": {
    "id": "x4GFSq08Sf-C"
   },
   "source": [
    "We find almost no difference in the results between the base classifier and classifier tuned for accuracy although the value of which is quite high; 85%, which should be considered quite good. But no, the reason for the high accuracy value is the higher number of 0 labels that were correctly predicted.\n",
    "\n",
    "This revelation changes our goal. Now we are not looking to increase the overall accuracy of the model but trying to reduce the misclassification of the minority class (number of 1s predicted as 0). To do this, we have to change our scoring metric for hyperparameter tuning. We can use precision or f-score (combination of precision and recall) to do so. There is another scoring parameter called ROC AUC which gives the area under the ROC curve which is a plot of true positives vs false positives. For more on scoring parameters, refer to the scikit learn page [here.](https://scikit-learn.org/stable/modules/model_evaluation.html#scoring-parameter)\n",
    "\n",
    "\n",
    "We will try a couple of these scoring parameters in the next sections. The method will remain the same, only the results need to be checked for each scoring metric."
   ]
  },
  {
   "cell_type": "markdown",
   "metadata": {
    "id": "PT24QYLqDldX"
   },
   "source": [
    "."
   ]
  },
  {
   "cell_type": "markdown",
   "metadata": {
    "id": "3zl7VrZPc77S"
   },
   "source": [
    "### Scoring metric: F-score"
   ]
  },
  {
   "cell_type": "code",
   "execution_count": null,
   "metadata": {
    "id": "zBTKECOp2x9E"
   },
   "outputs": [],
   "source": [
    "randomforest_gridsearch_f1 = GridSearchCV(estimator=RandomForestClassifier(), param_grid=grid_rf, cv=5, scoring='f1_weighted', verbose=4)\n",
    "randomforest_gridsearch_f1.fit(X_train, y_train)"
   ]
  },
  {
   "cell_type": "code",
   "execution_count": null,
   "metadata": {
    "colab": {
     "base_uri": "https://localhost:8080/",
     "height": 605
    },
    "id": "dEDzNCn88u3d",
    "outputId": "9755d761-7050-4cb3-bdfd-1e6247a07346"
   },
   "outputs": [
    {
     "name": "stdout",
     "output_type": "stream",
     "text": [
      "              precision    recall  f1-score   support\n",
      "\n",
      "           0       0.91      0.91      0.91      1696\n",
      "           1       0.48      0.47      0.48       304\n",
      "\n",
      "    accuracy                           0.84      2000\n",
      "   macro avg       0.69      0.69      0.69      2000\n",
      "weighted avg       0.84      0.84      0.84      2000\n",
      "\n"
     ]
    },
    {
     "data": {
      "image/png": "[encoded data removed]",
      "text/plain": [
       "<Figure size 640x480 with 2 Axes>"
      ]
     },
     "metadata": {},
     "output_type": "display_data"
    }
   ],
   "source": [
    "model = randomforest_gridsearch_f1.best_estimator_\n",
    "y_pred = model.predict(X_test)\n",
    "\n",
    "print(classification_report(y_test, y_pred))\n",
    "metrics.ConfusionMatrixDisplay(confusion_matrix = metrics.confusion_matrix(y_test, y_pred)).plot()\n",
    "plt.show()"
   ]
  },
  {
   "cell_type": "markdown",
   "metadata": {
    "id": "ksdhtNL-dLIE"
   },
   "source": [
    "### Scoring metric: ROC AUC"
   ]
  },
  {
   "cell_type": "code",
   "execution_count": null,
   "metadata": {
    "id": "EQ8Jk8-1rsFy"
   },
   "outputs": [],
   "source": [
    "randomforest_gridsearch_roc = GridSearchCV(estimator=RandomForestClassifier(), param_grid=grid_rf, cv=5, scoring='roc_auc_ovo_weighted', verbose=4)\n",
    "randomforest_gridsearch_roc.fit(X_train, y_train)"
   ]
  },
  {
   "cell_type": "code",
   "execution_count": null,
   "metadata": {
    "colab": {
     "base_uri": "https://localhost:8080/",
     "height": 605
    },
    "id": "9Ux3RZMbrvMA",
    "outputId": "8581358e-6af5-4fff-8156-e737ab1defbb"
   },
   "outputs": [
    {
     "name": "stdout",
     "output_type": "stream",
     "text": [
      "              precision    recall  f1-score   support\n",
      "\n",
      "           0       0.91      0.91      0.91      1696\n",
      "           1       0.50      0.52      0.51       304\n",
      "\n",
      "    accuracy                           0.85      2000\n",
      "   macro avg       0.71      0.71      0.71      2000\n",
      "weighted avg       0.85      0.85      0.85      2000\n",
      "\n"
     ]
    },
    {
     "data": {
      "image/png": "[encoded data removed]",
      "text/plain": [
       "<Figure size 640x480 with 2 Axes>"
      ]
     },
     "metadata": {},
     "output_type": "display_data"
    }
   ],
   "source": [
    "model = randomforest_gridsearch_roc.best_estimator_\n",
    "y_pred = model.predict(X_test)\n",
    "\n",
    "print(classification_report(y_test, y_pred))\n",
    "metrics.ConfusionMatrixDisplay(confusion_matrix = metrics.confusion_matrix(y_test, y_pred)).plot()\n",
    "plt.show()"
   ]
  },
  {
   "cell_type": "markdown",
   "metadata": {
    "id": "iVwXOKx1Dn7n"
   },
   "source": [
    "."
   ]
  },
  {
   "cell_type": "markdown",
   "metadata": {
    "id": "5MuCPk5UWmVm"
   },
   "source": [
    "In the above 2 scenarios, we find our model performance improved quite a bit with regards to the minority class (label 1) although it might lead to a drop in accuracy due to some more 0 labels being misclassified. But as stated before, in such problems there will a certain tolerance towards that. Associating example, rejecting a loan for someone who can repay it (majority class) is less risky for a bank than approving it for someone who cannot pay it back (minority class)."
   ]
  },
  {
   "cell_type": "markdown",
   "metadata": {
    "id": "uqMlpqRRDsZk"
   },
   "source": [
    "."
   ]
  },
  {
   "cell_type": "markdown",
   "metadata": {
    "id": "mrYV0IwH6kM6"
   },
   "source": [
    "# **Synthetic Minority oversampling technique (SMOTE)**"
   ]
  },
  {
   "cell_type": "markdown",
   "metadata": {
    "id": "_n_1xQ5lYnj9"
   },
   "source": [
    "When it comes to tackling imbalance in label classes, a very common technique is random over sampling. In this, random entries with the minority class label are duplicated in the training set so that its number can match up to that of the majority class. While this method may be useful in image classifications along with some rotation and skew, it definitely does not add any new information in our current problem to help us predict the minority class better. Therefore we choose SMOTE to create synthetic samples of the minority class.\n",
    "\n",
    "SMOTE uses k-nearest neighbors to determine the samples closest to randomly chosen samples and creates new synthetic samples on the line joining the closest samples in the feature space. There is a great documentation on SMOTE along with visualisations of how it works which can be found [here.](https://machinelearningmastery.com/smote-oversampling-for-imbalanced-classification/) Alternatively, you can just type SMOTE on google and this will be one of the first results."
   ]
  },
  {
   "cell_type": "markdown",
   "metadata": {
    "id": "nbbuOMr0DqFp"
   },
   "source": [
    "."
   ]
  },
  {
   "cell_type": "markdown",
   "metadata": {
    "id": "05zEJmGQdaC4"
   },
   "source": [
    "## Oversampling minority class"
   ]
  },
  {
   "cell_type": "code",
   "execution_count": null,
   "metadata": {
    "colab": {
     "base_uri": "https://localhost:8080/"
    },
    "id": "pDEZg3y06uGa",
    "outputId": "dfa2614a-7f82-44c5-98e6-8170d826690f"
   },
   "outputs": [
    {
     "name": "stdout",
     "output_type": "stream",
     "text": [
      "Before oversampling:  Counter({0: 6704, 1: 1296})\n",
      "After oversampling:  Counter({0: 6704, 1: 6704})\n"
     ]
    }
   ],
   "source": [
    "# Oversampling minority class to match with the number of samples of majority class\n",
    "\n",
    "oversampler = SMOTE(sampling_strategy='auto', k_neighbors=3)\n",
    "\n",
    "print('Before oversampling: ', Counter(y_train['Response']))\n",
    "\n",
    "X_train_os, y_train_os = oversampler.fit_resample(X_train, y_train)\n",
    "\n",
    "print('After oversampling: ', Counter(y_train_os['Response']))\n"
   ]
  },
  {
   "cell_type": "code",
   "execution_count": null,
   "metadata": {
    "colab": {
     "base_uri": "https://localhost:8080/",
     "height": 605
    },
    "id": "3MGWgf25jZ5c",
    "outputId": "7e0d6e06-65aa-4623-b7b7-48c3266876f4"
   },
   "outputs": [
    {
     "name": "stdout",
     "output_type": "stream",
     "text": [
      "              precision    recall  f1-score   support\n",
      "\n",
      "           0       0.93      0.88      0.90      1696\n",
      "           1       0.47      0.62      0.54       304\n",
      "\n",
      "    accuracy                           0.84      2000\n",
      "   macro avg       0.70      0.75      0.72      2000\n",
      "weighted avg       0.86      0.84      0.85      2000\n",
      "\n"
     ]
    },
    {
     "data": {
      "image/png": "[encoded data removed]",
      "text/plain": [
       "<Figure size 640x480 with 2 Axes>"
      ]
     },
     "metadata": {},
     "output_type": "display_data"
    }
   ],
   "source": [
    "# trying base classifier on oversampled training set\n",
    "\n",
    "model = RandomForestClassifier()\n",
    "model.fit(X_train_os, y_train_os)\n",
    "y_pred = model.predict(X_test)\n",
    "\n",
    "print(classification_report(y_test, y_pred))\n",
    "metrics.ConfusionMatrixDisplay(confusion_matrix = metrics.confusion_matrix(y_test, y_pred)).plot()\n",
    "plt.show()"
   ]
  },
  {
   "cell_type": "markdown",
   "metadata": {
    "id": "wYwEvu8ADuvr"
   },
   "source": [
    "."
   ]
  },
  {
   "cell_type": "markdown",
   "metadata": {
    "id": "L33qHqq9blYh"
   },
   "source": [
    "It is already better than our last base classifier performance and all previous tuned classifiers. Until now we have only oversampled the minority class. But the research paper on SMOTE recommends not to oversample to completely match the number of samples but only till a fraction of the majority class to avoid making too many synthetic samples that never occur in real life. Follwed by undersampling of the majority class. It might seem a bit confusing in words and perhaps easier to follow in the code below."
   ]
  },
  {
   "cell_type": "markdown",
   "metadata": {
    "id": "iPm779s5DvjP"
   },
   "source": [
    "."
   ]
  },
  {
   "cell_type": "markdown",
   "metadata": {
    "id": "cLlxaMEld4m-"
   },
   "source": [
    "## Oversampling minority class and undersampling majority class"
   ]
  },
  {
   "cell_type": "code",
   "execution_count": null,
   "metadata": {
    "colab": {
     "base_uri": "https://localhost:8080/"
    },
    "id": "sKNBXv7i6u12",
    "outputId": "46f34ff6-a187-4bd1-f228-7a607b09d66f"
   },
   "outputs": [
    {
     "name": "stdout",
     "output_type": "stream",
     "text": [
      "Before synthetic oversampling:  Counter({0: 6704, 1: 1296})\n",
      "After oversampling minority class:  Counter({0: 6704, 1: 2011})\n",
      "After undersampling majority class:  Counter({0: 3351, 1: 2011})\n"
     ]
    }
   ],
   "source": [
    "# Oversampling minority class to have 30% of the total samples in majority class\n",
    "# undersampling the majority class to have 60% more samples than the majority class\n",
    "# the above percentages have been chosen by me to have close but not equal number of samples in both classes.\n",
    "\n",
    "oversampler = SMOTE(sampling_strategy=0.3, k_neighbors=3)\n",
    "undersampler = RandomUnderSampler(sampling_strategy=0.6)\n",
    "\n",
    "print('Before synthetic oversampling: ', Counter(y_train['Response']))\n",
    "\n",
    "X_train_os, y_train_os = oversampler.fit_resample(X_train, y_train)\n",
    "\n",
    "print('After oversampling minority class: ', Counter(y_train_os['Response']))\n",
    "\n",
    "X_train_os_us, y_train_os_us = undersampler.fit_resample(X_train_os, y_train_os)\n",
    "\n",
    "print('After undersampling majority class: ', Counter(y_train_os_us['Response']))"
   ]
  },
  {
   "cell_type": "code",
   "execution_count": null,
   "metadata": {
    "colab": {
     "base_uri": "https://localhost:8080/",
     "height": 607
    },
    "id": "SFCYJ_zXKJjb",
    "outputId": "4480aa32-64ff-4ffd-8e10-0af42c4e0f8d"
   },
   "outputs": [
    {
     "name": "stdout",
     "output_type": "stream",
     "text": [
      "              precision    recall  f1-score   support\n",
      "\n",
      "           0       0.95      0.83      0.89      1696\n",
      "           1       0.46      0.77      0.57       304\n",
      "\n",
      "    accuracy                           0.82      2000\n",
      "   macro avg       0.70      0.80      0.73      2000\n",
      "weighted avg       0.88      0.82      0.84      2000\n",
      "\n"
     ]
    },
    {
     "data": {
      "image/png": "[encoded data removed]",
      "text/plain": [
       "<Figure size 640x480 with 2 Axes>"
      ]
     },
     "metadata": {},
     "output_type": "display_data"
    }
   ],
   "source": [
    "# trying base model\n",
    "\n",
    "model = RandomForestClassifier()\n",
    "model.fit(X_train_os_us, y_train_os_us)\n",
    "y_pred = model.predict(X_test)\n",
    "\n",
    "print(classification_report(y_test, y_pred))\n",
    "metrics.ConfusionMatrixDisplay(confusion_matrix = metrics.confusion_matrix(y_test, y_pred)).plot()\n",
    "plt.show()"
   ]
  },
  {
   "cell_type": "markdown",
   "metadata": {
    "id": "oKyCWLN7DxTB"
   },
   "source": [
    "."
   ]
  },
  {
   "cell_type": "markdown",
   "metadata": {
    "id": "zFCTm1tKekFo"
   },
   "source": [
    "And you can see the difference for yourself. Although the accuracy decreased a little bit, the model performance on the minority class improved a lot. Another vital thing to note is that synthetic oversampling should be performed only on training set and never on the test set.\n",
    "\n",
    "\n",
    "Having said that, let's try tuning the model parameters with different scoring parameters as we did before."
   ]
  },
  {
   "cell_type": "markdown",
   "metadata": {
    "id": "Kp6N4JvFDyG6"
   },
   "source": [
    "."
   ]
  },
  {
   "cell_type": "markdown",
   "metadata": {
    "id": "BeOmdrL0ebV1"
   },
   "source": [
    "### Scoring metric: F-score"
   ]
  },
  {
   "cell_type": "code",
   "execution_count": null,
   "metadata": {
    "id": "iVHQM3JRSIvt"
   },
   "outputs": [],
   "source": [
    "randomforest_gridsearch_f1_os_us = GridSearchCV(estimator=RandomForestClassifier(), param_grid=grid_rf, cv=5, scoring='f1_weighted', verbose=4)\n",
    "randomforest_gridsearch_f1_os_us.fit(X_train_os_us, y_train_os_us)"
   ]
  },
  {
   "cell_type": "code",
   "execution_count": null,
   "metadata": {
    "colab": {
     "base_uri": "https://localhost:8080/",
     "height": 609
    },
    "id": "O2CP5yvjTPfj",
    "outputId": "1afdb1c0-8e7d-42b5-b3f9-c78e8abef0c5"
   },
   "outputs": [
    {
     "name": "stdout",
     "output_type": "stream",
     "text": [
      "              precision    recall  f1-score   support\n",
      "\n",
      "           0       0.96      0.83      0.89      1696\n",
      "           1       0.45      0.79      0.58       304\n",
      "\n",
      "    accuracy                           0.82      2000\n",
      "   macro avg       0.71      0.81      0.73      2000\n",
      "weighted avg       0.88      0.82      0.84      2000\n",
      "\n"
     ]
    },
    {
     "data": {
      "image/png": "[encoded data removed]",
      "text/plain": [
       "<Figure size 640x480 with 2 Axes>"
      ]
     },
     "metadata": {},
     "output_type": "display_data"
    }
   ],
   "source": [
    "model = randomforest_gridsearch_f1_os_us.best_estimator_\n",
    "y_pred = model.predict(X_test)\n",
    "\n",
    "print(classification_report(y_test, y_pred))\n",
    "metrics.ConfusionMatrixDisplay(confusion_matrix = metrics.confusion_matrix(y_test, y_pred)).plot()\n",
    "plt.show()"
   ]
  },
  {
   "cell_type": "markdown",
   "metadata": {
    "id": "tfHIUDjGfZGo"
   },
   "source": [
    "### Scoring metric: Precision"
   ]
  },
  {
   "cell_type": "code",
   "execution_count": null,
   "metadata": {
    "id": "wrc7GQBpa_Mr"
   },
   "outputs": [],
   "source": [
    "randomforest_gridsearch_pres_os_us = GridSearchCV(estimator=RandomForestClassifier(), param_grid=grid_rf, cv=5, scoring='precision_weighted', verbose=4)\n",
    "randomforest_gridsearch_pres_os_us.fit(X_train_os_us, y_train_os_us)"
   ]
  },
  {
   "cell_type": "code",
   "execution_count": null,
   "metadata": {
    "colab": {
     "base_uri": "https://localhost:8080/",
     "height": 608
    },
    "id": "8Jx7d6SJfkx6",
    "outputId": "4dbfecbb-5898-4457-97ce-b4fcbe201a1c"
   },
   "outputs": [
    {
     "name": "stdout",
     "output_type": "stream",
     "text": [
      "              precision    recall  f1-score   support\n",
      "\n",
      "           0       0.95      0.83      0.89      1696\n",
      "           1       0.45      0.78      0.57       304\n",
      "\n",
      "    accuracy                           0.82      2000\n",
      "   macro avg       0.70      0.81      0.73      2000\n",
      "weighted avg       0.88      0.82      0.84      2000\n",
      "\n"
     ]
    },
    {
     "data": {
      "image/png": "[encoded data removed]",
      "text/plain": [
       "<Figure size 640x480 with 2 Axes>"
      ]
     },
     "metadata": {},
     "output_type": "display_data"
    }
   ],
   "source": [
    "model = randomforest_gridsearch_pres_os_us.best_estimator_\n",
    "y_pred = model.predict(X_test)\n",
    "\n",
    "print(classification_report(y_test, y_pred))\n",
    "metrics.ConfusionMatrixDisplay(confusion_matrix = metrics.confusion_matrix(y_test, y_pred)).plot()\n",
    "plt.show()"
   ]
  },
  {
   "cell_type": "markdown",
   "metadata": {
    "id": "55zu4gOpD0Ay"
   },
   "source": [
    "."
   ]
  },
  {
   "cell_type": "markdown",
   "metadata": {
    "id": "6w-LXBcifUSp"
   },
   "source": [
    "It appears that the model scored on f-score performs the best for this set of data and hyperparameters. Additional changes can probably be made to improve the model performance even more. Different scoring parameters can be used in the grid search CV as per the problem requirement but we were definitely able to mitigate some of the bias from the imbalanced dataset and train our model to predict minority classes better."
   ]
  }
 ],
 "metadata": {
  "colab": {
   "provenance": []
  },
  "kernelspec": {
   "display_name": "Python 3",
   "language": "python",
   "name": "python3"
  },
  "language_info": {
   "codemirror_mode": {
    "name": "ipython",
    "version": 3
   },
   "file_extension": ".py",
   "mimetype": "text/x-python",
   "name": "python",
   "nbconvert_exporter": "python",
   "pygments_lexer": "ipython3",
   "version": "3.8.8"
  }
 },
 "nbformat": 4,
 "nbformat_minor": 1
}
